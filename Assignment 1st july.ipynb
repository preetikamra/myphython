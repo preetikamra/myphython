{
 "cells": [
  {
   "cell_type": "code",
   "execution_count": 4,
   "metadata": {},
   "outputs": [],
   "source": [
    "district=\"Gwalior\"\n",
    "infected_till_date=1234\n",
    "infected_on_10th_june=12\n",
    "infected_on_11th_june=2\n",
    "infected_on_12th_june=13\n",
    "\n"
   ]
  },
  {
   "cell_type": "code",
   "execution_count": 6,
   "metadata": {},
   "outputs": [],
   "source": [
    "percentage_change = ((infected_on_12th_june-infected_on_10th_june)/infected_on_12th_june)*100"
   ]
  },
  {
   "cell_type": "code",
   "execution_count": 7,
   "metadata": {},
   "outputs": [
    {
     "name": "stdout",
     "output_type": "stream",
     "text": [
      "District=  Gwalior\n",
      "infected_till_date = 1234\n",
      "infected_on_10th_june = 12\n",
      "infected_on_11th_june = 2\n",
      "infected_on_12th_june = 13\n",
      "percentae change on 12th june = 7.6923076923076925\n"
     ]
    }
   ],
   "source": [
    "print(\"District= \",district)\n",
    "print(\"infected_till_date =\",infected_till_date)\n",
    "print(\"infected_on_10th_june =\",infected_on_10th_june)\n",
    "print(\"infected_on_11th_june =\",infected_on_11th_june)\n",
    "print(\"infected_on_12th_june =\",infected_on_12th_june)\n",
    "print(\"percentae change on 12th june =\", percentage_change)"
   ]
  },
  {
   "cell_type": "code",
   "execution_count": null,
   "metadata": {},
   "outputs": [],
   "source": []
  }
 ],
 "metadata": {
  "kernelspec": {
   "display_name": "Python 3",
   "language": "python",
   "name": "python3"
  },
  "language_info": {
   "codemirror_mode": {
    "name": "ipython",
    "version": 3
   },
   "file_extension": ".py",
   "mimetype": "text/x-python",
   "name": "python",
   "nbconvert_exporter": "python",
   "pygments_lexer": "ipython3",
   "version": "3.7.6"
  }
 },
 "nbformat": 4,
 "nbformat_minor": 4
}
