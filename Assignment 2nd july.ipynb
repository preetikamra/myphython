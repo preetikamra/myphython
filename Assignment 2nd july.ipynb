{
 "cells": [
  {
   "cell_type": "code",
   "execution_count": null,
   "metadata": {},
   "outputs": [],
   "source": [
    "#List "
   ]
  },
  {
   "cell_type": "code",
   "execution_count": 1,
   "metadata": {},
   "outputs": [],
   "source": [
    "list_states=[\"Maharashtra\",\n",
    "\"Tamil Nadu\",\n",
    "\"Delhi\",\n",
    "\"Gujarat\",\n",
    "\"Uttar Pradesh\",\n",
    "]"
   ]
  },
  {
   "cell_type": "code",
   "execution_count": 2,
   "metadata": {},
   "outputs": [
    {
     "data": {
      "text/plain": [
       "'Gujarat'"
      ]
     },
     "execution_count": 2,
     "metadata": {},
     "output_type": "execute_result"
    }
   ],
   "source": [
    "list_states[3]"
   ]
  },
  {
   "cell_type": "code",
   "execution_count": 5,
   "metadata": {},
   "outputs": [],
   "source": [
    "list_states.sort()"
   ]
  },
  {
   "cell_type": "code",
   "execution_count": 6,
   "metadata": {},
   "outputs": [
    {
     "name": "stdout",
     "output_type": "stream",
     "text": [
      "sorted list: ['Delhi', 'Gujarat', 'Maharashtra', 'Tamil Nadu', 'Uttar Pradesh']\n"
     ]
    }
   ],
   "source": [
    "print(\"sorted list:\", list_states)"
   ]
  },
  {
   "cell_type": "code",
   "execution_count": 8,
   "metadata": {},
   "outputs": [],
   "source": [
    "list_of_infected_states=[180298,\n",
    "94049,\n",
    "89802,\n",
    "33232,\n",
    "24056\n",
    "]"
   ]
  },
  {
   "cell_type": "code",
   "execution_count": 14,
   "metadata": {},
   "outputs": [],
   "source": [
    "list_of_infected_states.sort()"
   ]
  },
  {
   "cell_type": "code",
   "execution_count": 15,
   "metadata": {},
   "outputs": [
    {
     "name": "stdout",
     "output_type": "stream",
     "text": [
      "sorted list of infected states: [24056, 33232, 89802, 94049, 180298]\n"
     ]
    }
   ],
   "source": [
    "print(\"sorted list of infected states:\", list_of_infected_states)"
   ]
  },
  {
   "cell_type": "code",
   "execution_count": null,
   "metadata": {},
   "outputs": [],
   "source": []
  },
  {
   "cell_type": "code",
   "execution_count": 17,
   "metadata": {},
   "outputs": [
    {
     "name": "stdout",
     "output_type": "stream",
     "text": [
      "['Delhi', 'Gujarat', 'Maharashtra', 'Tamil Nadu', 'Uttar Pradesh']\n"
     ]
    }
   ],
   "source": [
    "print(list_states)"
   ]
  },
  {
   "cell_type": "code",
   "execution_count": 18,
   "metadata": {},
   "outputs": [
    {
     "name": "stdout",
     "output_type": "stream",
     "text": [
      "Delhi state has 24056 number of infected people\n",
      "Gujarat state has 33232 number of infected people\n",
      "Maharashtra state has 89802 number of infected people\n",
      "Tamil Nadu state has 94049 number of infected people\n",
      "Uttar Pradesh state has 180298 number of infected people\n"
     ]
    }
   ],
   "source": [
    "for i in range (0,5): print(\"{} state has {} number of infected people\".format(list_states[i], list_of_infected_states[i]))"
   ]
  },
  {
   "cell_type": "code",
   "execution_count": 1,
   "metadata": {},
   "outputs": [],
   "source": [
    "# TUPLE"
   ]
  },
  {
   "cell_type": "code",
   "execution_count": 2,
   "metadata": {},
   "outputs": [
    {
     "data": {
      "text/plain": [
       "('Maharashtra', 'Tamil Nadu', 'Delhi', 'Gujarat', 'Uttar Pradesh')"
      ]
     },
     "execution_count": 2,
     "metadata": {},
     "output_type": "execute_result"
    }
   ],
   "source": [
    "tuple1=(\"Maharashtra\",\"Tamil Nadu\",\"Delhi\",\"Gujarat\",\"Uttar Pradesh\")\n",
    "tuple1"
   ]
  },
  {
   "cell_type": "code",
   "execution_count": 3,
   "metadata": {},
   "outputs": [
    {
     "data": {
      "text/plain": [
       "('180298', '94049', '89802', '33232', '24056')"
      ]
     },
     "execution_count": 3,
     "metadata": {},
     "output_type": "execute_result"
    }
   ],
   "source": [
    "tuple2=(\"180298\",\"94049\",\"89802\",\"33232\",\"24056\") # recovered cases2\n",
    "tuple2"
   ]
  },
  {
   "cell_type": "code",
   "execution_count": 5,
   "metadata": {},
   "outputs": [
    {
     "name": "stdout",
     "output_type": "stream",
     "text": [
      "numbers recovered state wise\n",
      "Maharashtra:180298\n",
      "Tamil Nadu:94049\n",
      "Delhi:89802\n",
      "Gujarat:33232\n",
      "Uttar Pradesh:24056\n"
     ]
    }
   ],
   "source": [
    "print(\"numbers recovered state wise\")\n",
    "for i in range(0,5):\n",
    "    print(tuple1[i] +\":\"+ tuple2[i])"
   ]
  },
  {
   "cell_type": "code",
   "execution_count": null,
   "metadata": {},
   "outputs": [],
   "source": [
    "# Dictionary"
   ]
  },
  {
   "cell_type": "code",
   "execution_count": 8,
   "metadata": {},
   "outputs": [
    {
     "name": "stdout",
     "output_type": "stream",
     "text": [
      "Infected cases State wise \n",
      "Maharashtra :  180298\n",
      "Tamil Nadu :  94049\n",
      "Delhi :  89802\n",
      "Gujarat :  33232\n",
      "Uttar Pradesh :  24056\n"
     ]
    }
   ],
   "source": [
    "Dictionary={\"Maharashtra\":180298,\"Tamil Nadu\":94049,\"Delhi\":89802,\"Gujarat\":33232,\"Uttar Pradesh\":24056}\n",
    "print(\"Infected cases State wise \")\n",
    "for a,b in Dictionary.items():\n",
    " print(a,\": \",b)"
   ]
  },
  {
   "cell_type": "code",
   "execution_count": null,
   "metadata": {},
   "outputs": [],
   "source": [
    "\n",
    "\n"
   ]
  }
 ],
 "metadata": {
  "kernelspec": {
   "display_name": "Python 3",
   "language": "python",
   "name": "python3"
  },
  "language_info": {
   "codemirror_mode": {
    "name": "ipython",
    "version": 3
   },
   "file_extension": ".py",
   "mimetype": "text/x-python",
   "name": "python",
   "nbconvert_exporter": "python",
   "pygments_lexer": "ipython3",
   "version": "3.7.6"
  }
 },
 "nbformat": 4,
 "nbformat_minor": 4
}
