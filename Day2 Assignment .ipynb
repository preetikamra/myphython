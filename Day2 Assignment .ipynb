{
 "cells": [
  {
   "cell_type": "code",
   "execution_count": 20,
   "metadata": {},
   "outputs": [],
   "source": [
    "list_names_of_states=[\"Andaman and Nicobar\",\"Andhra Pradesh\",\n",
    "\"Arunachal Pradesh\",\n",
    "\"Assam\",\n",
    "\"Bihar\",\n",
    "\"Chandigarh\",\n",
    "\"Chhattisgarh\",\n",
    "\"Dadra and Nagar Haveli\",\n",
    "\"Delhi\",\n",
    "\"Goa\",\n",
    "\"Gujarat\",\n",
    "\"Haryana\",\n",
    "\"Himachal Pradesh\",\n",
    "\"Jammu and Kashmir\",\n",
    "\"Jharkhand\",\n",
    "\"Karnataka\",\n",
    "\"Kerala\",\n",
    "\"Ladakh\",\n",
    "\"Lakshadweep\",\n",
    "\"Madhya Pradesh\",\n",
    "\"Maharashtra\",\n",
    "\"Manipur\",\n",
    "\"Meghalaya\",\n",
    "\"Mizoram\",\n",
    "\"Nagaland\",\n",
    "\"Odisha\",\n",
    "\"Puducherry\",\n",
    "\"Punjab\",\n",
    "\"Rajasthan\",\n",
    "\"Sikkim\",\n",
    "\"Tamil Nadu\",\n",
    "\"Telengana\",\n",
    "\"Tripura\",\n",
    "\"Uttar Pradesh\",\n",
    "\"Uttarakhand\",\n",
    "\"West Benagal\"]"
   ]
  },
  {
   "cell_type": "code",
   "execution_count": 21,
   "metadata": {},
   "outputs": [
    {
     "data": {
      "text/plain": [
       "'Nagaland'"
      ]
     },
     "execution_count": 21,
     "metadata": {},
     "output_type": "execute_result"
    }
   ],
   "source": [
    "list_names_of_states[24]"
   ]
  },
  {
   "cell_type": "code",
   "execution_count": 22,
   "metadata": {},
   "outputs": [],
   "source": [
    "list_names_of_states.sort()"
   ]
  },
  {
   "cell_type": "code",
   "execution_count": 23,
   "metadata": {},
   "outputs": [],
   "source": [
    "List_of_infected_states=[100,\n",
    "15252,\n",
    "195,\n",
    "8582,\n",
    "10249,\n",
    "446,\n",
    "2940,\n",
    "215,\n",
    "89802,\n",
    "1387,\n",
    "33232,\n",
    "14941,\n",
    "979,\n",
    "7695,\n",
    "2521,\n",
    "16514,\n",
    "4593,\n",
    "990,\n",
    "1,\n",
    "13861,\n",
    "180298,\n",
    "1260,\n",
    "52,\n",
    "160,\n",
    "459,\n",
    "7316,\n",
    "714,\n",
    "5668,\n",
    "18312,\n",
    "101,\n",
    "94049,\n",
    "17357,\n",
    "1396,\n",
    "24056,\n",
    "2947,\n",
    "19170]\n",
    "                       "
   ]
  },
  {
   "cell_type": "code",
   "execution_count": 25,
   "metadata": {},
   "outputs": [
    {
     "data": {
      "text/plain": [
       "94049"
      ]
     },
     "execution_count": 25,
     "metadata": {},
     "output_type": "execute_result"
    }
   ],
   "source": [
    "List_of_infected_states[30]"
   ]
  },
  {
   "cell_type": "code",
   "execution_count": 26,
   "metadata": {},
   "outputs": [
    {
     "data": {
      "text/plain": [
       "459"
      ]
     },
     "execution_count": 26,
     "metadata": {},
     "output_type": "execute_result"
    }
   ],
   "source": [
    "List_of_infected_states[24]"
   ]
  },
  {
   "cell_type": "code",
   "execution_count": null,
   "metadata": {},
   "outputs": [],
   "source": []
  }
 ],
 "metadata": {
  "kernelspec": {
   "display_name": "Python 3",
   "language": "python",
   "name": "python3"
  },
  "language_info": {
   "codemirror_mode": {
    "name": "ipython",
    "version": 3
   },
   "file_extension": ".py",
   "mimetype": "text/x-python",
   "name": "python",
   "nbconvert_exporter": "python",
   "pygments_lexer": "ipython3",
   "version": "3.7.6"
  }
 },
 "nbformat": 4,
 "nbformat_minor": 4
}
