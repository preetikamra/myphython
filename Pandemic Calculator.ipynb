{
 "cells": [
  {
   "cell_type": "code",
   "execution_count": 1,
   "metadata": {},
   "outputs": [
    {
     "ename": "NameError",
     "evalue": "name 'Button' is not defined",
     "output_type": "error",
     "traceback": [
      "\u001b[1;31m---------------------------------------------------------------------------\u001b[0m",
      "\u001b[1;31mNameError\u001b[0m                                 Traceback (most recent call last)",
      "\u001b[1;32m<ipython-input-1-b94bd725ad82>\u001b[0m in \u001b[0;36m<module>\u001b[1;34m\u001b[0m\n\u001b[0;32m     19\u001b[0m \u001b[1;31m#def  click():\u001b[0m\u001b[1;33m\u001b[0m\u001b[1;33m\u001b[0m\u001b[1;33m\u001b[0m\u001b[0m\n\u001b[0;32m     20\u001b[0m \u001b[0mmbx\u001b[0m\u001b[1;33m.\u001b[0m\u001b[0mshowinfo\u001b[0m\u001b[1;33m(\u001b[0m\u001b[1;34m\"message title\"\u001b[0m\u001b[1;33m,\u001b[0m\u001b[1;34m\"message content\"\u001b[0m\u001b[1;33m)\u001b[0m\u001b[1;33m\u001b[0m\u001b[1;33m\u001b[0m\u001b[0m\n\u001b[1;32m---> 21\u001b[1;33m \u001b[0mbtn\u001b[0m\u001b[1;33m=\u001b[0m\u001b[0mButton\u001b[0m\u001b[1;33m(\u001b[0m\u001b[0mwindow\u001b[0m\u001b[1;33m,\u001b[0m\u001b[0mtext\u001b[0m\u001b[1;33m=\u001b[0m\u001b[1;34m\"Enter\"\u001b[0m\u001b[1;33m,\u001b[0m\u001b[0mcommand\u001b[0m\u001b[1;33m=\u001b[0m\u001b[0mclicked\u001b[0m\u001b[1;33m)\u001b[0m\u001b[1;33m\u001b[0m\u001b[1;33m\u001b[0m\u001b[0m\n\u001b[0m\u001b[0;32m     22\u001b[0m \u001b[1;33m\u001b[0m\u001b[0m\n\u001b[0;32m     23\u001b[0m \u001b[1;33m\u001b[0m\u001b[0m\n",
      "\u001b[1;31mNameError\u001b[0m: name 'Button' is not defined"
     ]
    }
   ],
   "source": [
    "import tkinter as tk\n",
    "from tkinter import ttk\n",
    "from tkinter import messagebox as mbx\n",
    "window=tk.Tk()\n",
    "window.title(\"Pandemic Analytical Calculator\")\n",
    "label1= ttk.Label(window, text=\"My Analytic Calculator\",font=(\"Arial\",20)).grid(column=0, row=0)\n",
    "label2=ttk.Label(window, text=\"Select State\",font=(\"Arial\",10)).grid(column=0, row=5)\n",
    "ttk.Entry(window).grid(row=5, column=1)\n",
    "label3=ttk.Label(window, text=\"Confirmed\",font=(\"Arial\",10)).grid(column=0, row=8)\n",
    "ttk.Entry(window).grid(row=8, column=1)\n",
    "label4=ttk.Label(window, text=\"Active\",font=(\"Arial\",10)).grid(column=0, row=12)\n",
    "ttk.Entry(window).grid(row=12, column=1)\n",
    "label5=ttk.Label(window, text=\"Recovered\",font=(\"Arial\",10)).grid(column=0, row=15)\n",
    "ttk.Entry(window).grid(row=15, column=1)\n",
    "label6=ttk.Label(window, text=\"Deceased\",font=(\"Arial\",10)).grid(column=0, row=17)\n",
    "ttk.Entry(window).grid(row=17, column=1)\n",
    "bt1 = tk.Button(window, text=\"IMR\", font=(\"Arial\",10),bg=\"lightblue\", fg=\"red\").grid(column=0,row=22)\n",
    "bt2 =tk.Button(window, text=\"IFR\", font=(\"Arial\",10),bg=\"lightblue\", fg=\"red\").grid(column=1,row=22)\n",
    "#def  click():\n",
    "mbx.showinfo(\"message title\",\"message content\") \n",
    "btn=Button(window,text=\"Enter\",command=clicked)\n",
    "    \n",
    "\n",
    "window.mainloop()"
   ]
  },
  {
   "cell_type": "code",
   "execution_count": null,
   "metadata": {},
   "outputs": [],
   "source": []
  }
 ],
 "metadata": {
  "kernelspec": {
   "display_name": "Python 3",
   "language": "python",
   "name": "python3"
  },
  "language_info": {
   "codemirror_mode": {
    "name": "ipython",
    "version": 3
   },
   "file_extension": ".py",
   "mimetype": "text/x-python",
   "name": "python",
   "nbconvert_exporter": "python",
   "pygments_lexer": "ipython3",
   "version": "3.7.6"
  }
 },
 "nbformat": 4,
 "nbformat_minor": 4
}
